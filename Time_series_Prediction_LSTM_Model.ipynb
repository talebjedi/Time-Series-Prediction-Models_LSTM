{
  "cells": [
    {
      "cell_type": "code",
      "execution_count": null,
      "metadata": {
        "id": "v_fmy9c8vZLo"
      },
      "outputs": [],
      "source": [
        "import numpy as np\n",
        "import matplotlib.pyplot as plt\n",
        "from pandas import read_csv\n",
        "import math\n",
        "import pandas as pd\n",
        "\n",
        "from keras.models import Sequential\n",
        "from keras.layers import Dense\n",
        "from keras.layers import LSTM, Flatten\n",
        "from sklearn.preprocessing import MinMaxScaler\n",
        "from sklearn.metrics import mean_squared_error\n",
        "#from keras.callbacks import EarlyStopping\n",
        "from keras.layers import ConvLSTM2D\n"
      ]
    },
    {
      "cell_type": "code",
      "execution_count": 1,
      "metadata": {
        "id": "0dhlWYXxvmJM"
      },
      "outputs": [],
      "source": [
        "# load the dataset\n",
        "dataframe =pd.read_csv('10_min_total_ml_LSTM.csv', delimiter=';', usecols=[1])\n",
        "\n",
        "print(dataframe)\n"
      ]
    },
    {
      "cell_type": "code",
      "execution_count": null,
      "metadata": {
        "colab": {
          "base_uri": "https://localhost:8080/"
        },
        "id": "s-f7Wyt12cYa",
        "outputId": "ca922cfe-b67a-4e81-f997-bd493f0710f2"
      },
      "outputs": [
        {
          "output_type": "stream",
          "name": "stdout",
          "text": [
            "Raw data size:------------> (52506, 1)\n",
            "Dataset size after dropna(): (52506, 1)\n"
          ]
        }
      ],
      "source": [
        "print('Raw data size:------------>',dataframe.shape)\n",
        "dataframe = dataframe.dropna()\n",
        "print('Dataset size after dropna():',dataframe.shape)\n"
      ]
    },
    {
      "cell_type": "code",
      "execution_count": 2,
      "metadata": {
        "id": "7lU4VDSN8PMr"
      },
      "outputs": [],
      "source": [
        "for col_name in dataframe.keys():\n",
        "  dataframe = dataframe[~dataframe[col_name].astype(str).str.contains(r\"[a-z]\")]\n",
        "  dataframe = dataframe.astype({col_name: float})\n",
        "\n",
        "\n",
        "original_dataframe_size=dataframe.shape\n",
        "print('Original dataframe size:------>',original_dataframe_size)\n",
        "print(dataframe.head(5))"
      ]
    },
    {
      "cell_type": "code",
      "execution_count": 3,
      "metadata": {
        "id": "44Ai4D0aA1ae"
      },
      "outputs": [],
      "source": [
        "# dataframe=np.array(dataframe)\n",
        "# plt.hist(dataframe)"
      ]
    },
    {
      "cell_type": "code",
      "execution_count": null,
      "metadata": {
        "id": "_JThmVll71GA",
        "colab": {
          "base_uri": "https://localhost:8080/"
        },
        "outputId": "fd0f5a42-7adb-41d0-8815-c342ae219959"
      },
      "outputs": [
        {
          "output_type": "stream",
          "name": "stdout",
          "text": [
            "(33056, 1)\n"
          ]
        }
      ],
      "source": [
        "# Outlier Removal 2\n",
        "import scipy.stats as stats\n",
        "z = np.abs(stats.zscore(dataframe))\n",
        "dataframe= dataframe[(z<1.1).all(axis=1)]\n",
        "# print(dataframe)\n",
        "print(dataframe.shape)"
      ]
    },
    {
      "cell_type": "code",
      "execution_count": null,
      "metadata": {
        "id": "51TxgX-NNtd3"
      },
      "outputs": [],
      "source": [
        "#Convert pandas dataframe to numpy array\n",
        "# dataset = dataframe.values\n",
        "plt.plot(dataframe)\n",
        "dataset = dataframe"
      ]
    },
    {
      "cell_type": "code",
      "execution_count": 5,
      "metadata": {
        "id": "j3DEbgnQvtXj"
      },
      "outputs": [],
      "source": [
        "#LSTM uses sigmoid and tanh that are sensitive to magnitude so values need to be normalized\n",
        "# normalize the dataset\n",
        "scaler = MinMaxScaler(feature_range=(0, 1)) #Also try QuantileTransformer\n",
        "dataset = scaler.fit_transform(dataset)\n",
        "plt.plot(dataset)"
      ]
    },
    {
      "cell_type": "code",
      "execution_count": null,
      "metadata": {
        "colab": {
          "base_uri": "https://localhost:8080/"
        },
        "id": "NZUU7Lcivyes",
        "outputId": "201434b3-23ec-4431-c742-a10c8b744616"
      },
      "outputs": [
        {
          "output_type": "stream",
          "name": "stdout",
          "text": [
            "Shape of training set: (21755, 60)\n",
            "Shape of test set: (11179, 60)\n"
          ]
        }
      ],
      "source": [
        "#We cannot use random way of splitting dataset into train and test as\n",
        "#the sequence of events is important for time series.\n",
        "#first 66% values: traindatset, remaining: test dataset\n",
        "# split into train and test sets:\n",
        "train_size = int(len(dataset) * 0.66)\n",
        "test_size = len(dataset) - train_size\n",
        "train, test = dataset[0:train_size,:], dataset[train_size:len(dataset),:]\n",
        "\n",
        "\n",
        "\n",
        "#seq_size is the number of previous time steps to use as \n",
        "#input variables to predict the next time period.\n",
        "\n",
        "def to_sequences(dataset, seq_size=1):\n",
        "    x = []\n",
        "    y = []\n",
        "\n",
        "    for i in range(len(dataset)-seq_size-1):\n",
        "        #print(i)\n",
        "        window = dataset[i:(i+seq_size), 0]\n",
        "        x.append(window)\n",
        "        y.append(dataset[i+seq_size, 0])\n",
        "        \n",
        "    return np.array(x),np.array(y)\n",
        "    \n",
        "\n",
        "seq_size = 600 # Number of time steps to look back \n",
        "#Larger sequences (look further back) may improve forecasting.\n",
        "\n",
        "trainX, trainY = to_sequences(train, seq_size)\n",
        "testX, testY = to_sequences(test, seq_size)\n",
        "\n",
        "print(\"Shape of training set: {}\".format(trainX.shape))\n",
        "print(\"Shape of test set: {}\".format(testX.shape))\n",
        "\n",
        "# print(trainX)\n",
        "# print(trainY)"
      ]
    },
    {
      "cell_type": "code",
      "source": [
        "testY.shape"
      ],
      "metadata": {
        "colab": {
          "base_uri": "https://localhost:8080/"
        },
        "id": "_iEEd_wT628x",
        "outputId": "665a5ec6-933a-424c-d0a8-3ef384f5a2a3"
      },
      "execution_count": null,
      "outputs": [
        {
          "output_type": "execute_result",
          "data": {
            "text/plain": [
              "(1, 11179)"
            ]
          },
          "metadata": {},
          "execution_count": 41
        }
      ]
    },
    {
      "cell_type": "markdown",
      "source": [
        "* Select one of the time series prediction model and continue"
      ],
      "metadata": {
        "id": "laQbnkty324Y"
      }
    },
    {
      "cell_type": "markdown",
      "source": [
        "## **Single LSTM Model**"
      ],
      "metadata": {
        "id": "CbSRrK9n30G2"
      }
    },
    {
      "cell_type": "code",
      "execution_count": null,
      "metadata": {
        "id": "Ji3lA4vYv3DC",
        "colab": {
          "base_uri": "https://localhost:8080/"
        },
        "outputId": "72440d38-b1ae-4eb3-ce2f-deee28b2f5e6"
      },
      "outputs": [
        {
          "output_type": "stream",
          "name": "stdout",
          "text": [
            "Model: \"sequential\"\n",
            "_________________________________________________________________\n",
            " Layer (type)                Output Shape              Param #   \n",
            "=================================================================\n",
            " bidirectional (Bidirectiona  (None, 100)              44400     \n",
            " l)                                                              \n",
            "                                                                 \n",
            " dense (Dense)               (None, 1)                 101       \n",
            "                                                                 \n",
            "=================================================================\n",
            "Total params: 44,501\n",
            "Trainable params: 44,501\n",
            "Non-trainable params: 0\n",
            "_________________________________________________________________\n",
            "Train...\n"
          ]
        }
      ],
      "source": [
        "# Single LSTM\n",
        "Reshape input to be [samples, time steps, features]\n",
        "trainX = np.reshape(trainX, (trainX.shape[0], 1, trainX.shape[1]))\n",
        "testX = np.reshape(testX, (testX.shape[0], 1, testX.shape[1]))\n",
        "\n",
        "print('Single LSTM with hidden Dense...')\n",
        "model = Sequential()\n",
        "model.add(LSTM(40, input_shape=(None, seq_size)))\n",
        "model.add(Dense(30))\n",
        "model.add(Dense(1))\n",
        "model.compile(loss='mean_squared_error', optimizer='adam')\n",
        "#monitor = EarlyStopping(monitor='val_loss', min_delta=1e-3, patience=20, \n",
        "#                        verbose=1, mode='auto', restore_best_weights=True)\n",
        "model.summary()\n",
        "print('Train...')\n",
        "\n",
        "\n",
        "\n"
      ]
    },
    {
      "cell_type": "markdown",
      "source": [
        "### **Bidirectional LSTM Model**"
      ],
      "metadata": {
        "id": "XY3eIp733k7U"
      }
    },
    {
      "cell_type": "code",
      "source": [
        "#Bidirectional LSTM\n",
        "# reshape input to be [samples, time steps, features]\n",
        "trainX = np.reshape(trainX, (trainX.shape[0], 1, trainX.shape[1]))\n",
        "testX = np.reshape(testX, (testX.shape[0], 1, testX.shape[1]))\n",
        "\n",
        "#For some sequence forecasting problems we may need LSTM to learn\n",
        "# sequence in both forward and backward directions\n",
        "from keras.layers import Bidirectional\n",
        "model = Sequential()\n",
        "model.add(Bidirectional(LSTM(50, activation='relu'), input_shape=(None, seq_size)))\n",
        "model.add(Dense(1))\n",
        "model.compile(optimizer='adam', loss='mean_squared_error')\n",
        "model.summary()\n",
        "print('Train...')"
      ],
      "metadata": {
        "id": "7heJAbgA3jZ4"
      },
      "execution_count": null,
      "outputs": []
    },
    {
      "cell_type": "markdown",
      "source": [
        "## **Stacked LSTM Model**"
      ],
      "metadata": {
        "id": "JJurWBAp3Zhq"
      }
    },
    {
      "cell_type": "code",
      "source": [
        "# #Stacked LSTM with 1 hidden dense layer\n",
        "# # reshape input to be [samples, time steps, features]\n",
        "# trainX = np.reshape(trainX, (trainX.shape[0], 1, trainX.shape[1]))\n",
        "# testX = np.reshape(testX, (testX.shape[0], 1, testX.shape[1]))\n",
        "\n",
        "# model = Sequential()\n",
        "# model.add(LSTM(40, activation='relu', return_sequences=True, input_shape=(None, seq_size)))\n",
        "# model.add(LSTM(40, activation='relu'))\n",
        "# model.add(Dense(35))\n",
        "# model.add(Dense(1))\n",
        "# model.compile(optimizer='adam', loss='mean_squared_error')\n",
        "\n",
        "# model.summary()\n",
        "# print('Train...')"
      ],
      "metadata": {
        "id": "kH8FvPse3X9X"
      },
      "execution_count": null,
      "outputs": []
    },
    {
      "cell_type": "markdown",
      "source": [
        "## **Convolutional LSTM Model**"
      ],
      "metadata": {
        "id": "AKTCxd4-3JuM"
      }
    },
    {
      "cell_type": "code",
      "source": [
        "#ConvLSTM\n",
        "#The layer expects input as a sequence of two-dimensional images, \n",
        "#therefore the shape of input data must be: [samples, timesteps, rows, columns, features]\n",
        "\n",
        "trainX = trainX.reshape((trainX.shape[0], 1, 1, 1, seq_size))\n",
        "testX = testX.reshape((testX.shape[0], 1, 1, 1, seq_size))\n",
        "\n",
        "model = Sequential()\n",
        "model.add(ConvLSTM2D(filters=64, kernel_size=(1,1), activation='relu', input_shape=(1, 1, 1, seq_size)))\n",
        "model.add(Flatten())\n",
        "model.add(Dense(32))\n",
        "model.add(Dense(1))\n",
        "model.compile(optimizer='adam', loss='mean_squared_error')\n",
        "model.summary()\n",
        "#print('Train...')"
      ],
      "metadata": {
        "id": "1AraV1F93I2z"
      },
      "execution_count": null,
      "outputs": []
    },
    {
      "cell_type": "markdown",
      "source": [
        "* While you selected and run the code for the particular prediction-> fit the model"
      ],
      "metadata": {
        "id": "v2oPuZXf5Ner"
      }
    },
    {
      "cell_type": "markdown",
      "source": [
        "# Fit the Model"
      ],
      "metadata": {
        "id": "PnYe-gys4OcL"
      }
    },
    {
      "cell_type": "code",
      "execution_count": null,
      "metadata": {
        "id": "JIf7XHNcI15l",
        "colab": {
          "base_uri": "https://localhost:8080/"
        },
        "outputId": "4c91fff9-a41a-4fba-f0fb-a250bd9eace8"
      },
      "outputs": [
        {
          "output_type": "execute_result",
          "data": {
            "text/plain": [
              "<keras.callbacks.History at 0x7f05035d1490>"
            ]
          },
          "metadata": {},
          "execution_count": 15
        }
      ],
      "source": [
        "\n",
        "model.fit(trainX, trainY, validation_data=(testX, testY),\n",
        "          verbose=0, epochs=50)\n"
      ]
    },
    {
      "cell_type": "markdown",
      "source": [
        "# make predictions"
      ],
      "metadata": {
        "id": "sEAhXr094Sck"
      }
    },
    {
      "cell_type": "code",
      "execution_count": null,
      "metadata": {
        "id": "Tygpb9IQwDzF"
      },
      "outputs": [],
      "source": [
        "# make predictions\n",
        "\n",
        "trainPredict = model.predict(trainX)\n",
        "testPredict = model.predict(testX)\n",
        "\n",
        "# invert predictions back to prescaled values\n",
        "#This is to compare with original input values\n",
        "#SInce we used minmaxscaler we can now use scaler.inverse_transform\n",
        "#to invert the transformation.\n",
        "trainPredict = scaler.inverse_transform(trainPredict)\n",
        "trainY = scaler.inverse_transform([trainY])\n",
        "testPredict = scaler.inverse_transform(testPredict)\n",
        "testY = scaler.inverse_transform([testY])"
      ]
    },
    {
      "cell_type": "code",
      "execution_count": null,
      "metadata": {
        "id": "dheqeJLRisn6",
        "colab": {
          "base_uri": "https://localhost:8080/"
        },
        "outputId": "4a581e3a-e7f6-48a3-ac56-9cf26c9d4537"
      },
      "outputs": [
        {
          "output_type": "stream",
          "name": "stdout",
          "text": [
            "(1, 21755)\n",
            "(11179, 1)\n"
          ]
        }
      ],
      "source": [
        "print(trainY.shape)\n",
        "print(testPredict.shape)\n",
        "# print(testPredict)"
      ]
    },
    {
      "cell_type": "code",
      "execution_count": null,
      "metadata": {
        "id": "n1Rivb5NwILD",
        "colab": {
          "base_uri": "https://localhost:8080/"
        },
        "outputId": "ba5b46d3-581f-439f-e10f-bb136ed98e5e"
      },
      "outputs": [
        {
          "output_type": "stream",
          "name": "stdout",
          "text": [
            "Train Score: 0.51 RMSE\n",
            "Train Pearson correlation Coefficient (R) is: (0.9542918812182102, 0.0)\n",
            "Test Score: 0.39 RMSE\n",
            "Test Pearson correlation Coefficient (R) is: (0.9719353717219992, 0.0)\n"
          ]
        }
      ],
      "source": [
        "from scipy.stats import pearsonr\n",
        "\n",
        "\n",
        "\n",
        "# calculate root mean squared error on train and test\n",
        "trainScore1 =  math.sqrt(mean_squared_error(trainY[0], trainPredict[:,0]))\n",
        "print('Train Score: %.2f RMSE' % (trainScore1))\n",
        "print('Train Pearson correlation Coefficient (R) is:', pearsonr(trainY[0].ravel(), trainPredict[:,0].ravel()))\n",
        "\n",
        "testScore = math.sqrt(mean_squared_error(testY[0], testPredict[:,0]))\n",
        "print('Test Score: %.2f RMSE' % (testScore))\n",
        "print('Test Pearson correlation Coefficient (R) is:', pearsonr(testY[0].ravel(), testPredict[:,0].ravel()))"
      ]
    },
    {
      "cell_type": "markdown",
      "source": [
        "# **Plot Results**"
      ],
      "metadata": {
        "id": "lijYQqH-4Xeg"
      }
    },
    {
      "cell_type": "code",
      "execution_count": 6,
      "metadata": {
        "id": "ykCpar1IwRKD"
      },
      "outputs": [],
      "source": [
        "# Plot original data, Train data, and Test data in the same Graph\n",
        "\n",
        "trainPredictPlot = np.empty_like(dataset)\n",
        "trainPredictPlot[:, :] = np.nan\n",
        "trainPredictPlot[seq_size:len(trainPredict)+seq_size, :] = trainPredict\n",
        "\n",
        "# shift test predictions for plotting\n",
        "testPredictPlot = np.empty_like(dataset)\n",
        "testPredictPlot[:, :] = np.nan\n",
        "testPredictPlot[len(trainPredict)+(seq_size*2)+1:len(dataset)-1, :] = testPredict\n",
        "\n",
        "# plot baseline and predictions\n",
        "plt.plot(scaler.inverse_transform(dataset), label='Original Data')\n",
        "plt.plot(trainPredictPlot, label='Train Data', color='chartreuse')\n",
        "plt.plot(testPredictPlot, label='Test Data')\n",
        "plt.xlabel('Data Pionts',fontsize=10)\n",
        "plt.ylabel('Motor load (Mwh)',fontsize=10)\n",
        "plt.legend(loc='lower left')\n",
        "plt.rcParams[\"figure.figsize\"] = (17,10)\n",
        "# plt.rcParams[\"figure.autolayout\"] = True\n",
        "ax = plt.gca()\n",
        "ax.tick_params(axis='x', labelsize=10)\n",
        "ax.tick_params(axis='y', labelsize=10)\n",
        "# ax.set_facecolor(\"cornsilk\")\n",
        "# plt.rcParams['font.size'] = 10\n",
        "plt.show()\n"
      ]
    },
    {
      "cell_type": "code",
      "execution_count": 7,
      "metadata": {
        "id": "tIfVMa68rtXT"
      },
      "outputs": [],
      "source": [
        "# Plot train and test data in the same Graph\n",
        "plt.plot(trainPredictPlot)\n",
        "plt.plot(testPredictPlot)"
      ]
    }
  ],
  "metadata": {
    "colab": {
      "provenance": []
    },
    "kernelspec": {
      "display_name": "Python 3",
      "name": "python3"
    },
    "language_info": {
      "name": "python"
    }
  },
  "nbformat": 4,
  "nbformat_minor": 0
}